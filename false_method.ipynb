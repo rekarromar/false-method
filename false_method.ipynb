{
  "nbformat": 4,
  "nbformat_minor": 0,
  "metadata": {
    "colab": {
      "provenance": [],
      "collapsed_sections": [],
      "authorship_tag": "ABX9TyNHpyzPXaa/ItiDGOSDk5Z0",
      "include_colab_link": true
    },
    "kernelspec": {
      "name": "python3",
      "display_name": "Python 3"
    },
    "language_info": {
      "name": "python"
    }
  },
  "cells": [
    {
      "cell_type": "markdown",
      "metadata": {
        "id": "view-in-github",
        "colab_type": "text"
      },
      "source": [
        "<a href=\"https://colab.research.google.com/github/rekarromar/false-method/blob/main/false_method.ipynb\" target=\"_parent\"><img src=\"https://colab.research.google.com/assets/colab-badge.svg\" alt=\"Open In Colab\"/></a>"
      ]
    },
    {
      "cell_type": "code",
      "execution_count": null,
      "metadata": {
        "colab": {
          "base_uri": "https://localhost:8080/"
        },
        "id": "V9xWFdXcXgT8",
        "outputId": "efb76328-a257-41ba-8d5f-c1d9483bbb3c"
      },
      "outputs": [
        {
          "output_type": "stream",
          "name": "stdout",
          "text": [
            "The value of root is :  -0.9999999999992241\n"
          ]
        }
      ],
      "source": [
        "MAX_ITER = 1000000\n",
        "\n",
        "# function = x^3 - x^2 + 2\n",
        "\n",
        "def func(x):\n",
        "    return (x * x * x - x * x + 2)\n",
        "\n",
        "\n",
        "def process(a, b):\n",
        "    if func(a) * func(b) >= 0:\n",
        "        print(\"We have no root at this interval\")\n",
        "        return 2\n",
        "    \n",
        "    c = a\n",
        "\n",
        "    for i in range(MAX_ITER):\n",
        "\n",
        "        c = (a * func(b) - b * func(a)) / (func(b) - func(a))\n",
        "\n",
        "        if func(c) == 0:\n",
        "            break\n",
        "\n",
        "        elif func(c) * func(a) < 0:\n",
        "            b = c\n",
        "        else:\n",
        "            a = c\n",
        "    print(\"The value of root is : \",  c)\n",
        "\n",
        "\n",
        "a = 120\n",
        "b = -240\n",
        "process(a, b)\n"
      ]
    }
  ]
}